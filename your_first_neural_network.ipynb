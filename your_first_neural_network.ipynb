{
 "cells": [
  {
   "cell_type": "markdown",
   "metadata": {},
   "source": [
    "# Your First Neural Network"
   ]
  },
  {
   "cell_type": "markdown",
   "metadata": {},
   "source": [
    "🎯 Goals of this challenge:\n",
    "- Writing the architecture of a Neural Network\n",
    "- Inspect some of the most important hyperparameters of a Neural Network"
   ]
  },
  {
   "cell_type": "markdown",
   "metadata": {},
   "source": [
    "🌗 In this challenge, we will be working with the **moons dataset**. \n",
    "* Your goal is to build a Neural Network which separates two classes. \n",
    "* Each data point $X$ has two coordinates $X = (x_1, x_2)$ and belongs to either the class 0 or the class 1\n",
    "* These bi-dimensional points can be represented on a 2D-scatterplot, using colors to represent to two available classes $\\color{blue}{blue}$ and $\\color{red}{red} $\n",
    "* Here is an example of such a moon dataset:\n",
    "\n",
    "<img src=\"https://wagon-public-datasets.s3.amazonaws.com/data-science-images/DL/moons_dataset.png\" />"
   ]
  },
  {
   "cell_type": "markdown",
   "metadata": {},
   "source": [
    "## (1)  Generating the Moons dataset"
   ]
  },
  {
   "cell_type": "markdown",
   "metadata": {},
   "source": [
    "📚 Here, we will use the Scikit-Learn `make_moons` function [(see documentation here)](https://scikit-learn.org/stable/modules/generated/sklearn.datasets.make_moons.html) to create 2 moons that cannot be linearly separated. \n",
    "\n",
    "👉 Each moon corresponds to a class."
   ]
  },
  {
   "cell_type": "code",
   "execution_count": 12,
   "metadata": {},
   "outputs": [],
   "source": [
    "from sklearn.datasets import make_moons\n",
    "\n",
    "### Generating the moons dataset\n",
    "X, y = make_moons(n_samples=300, noise=0.25, random_state=0)"
   ]
  },
  {
   "cell_type": "code",
   "execution_count": 13,
   "metadata": {},
   "outputs": [
    {
     "data": {
      "image/png": "[encoded data removed]",
      "text/plain": [
       "<Figure size 640x480 with 1 Axes>"
      ]
     },
     "metadata": {},
     "output_type": "display_data"
    }
   ],
   "source": [
    "### This function allows to plot the two moons\n",
    "\n",
    "import pandas as pd\n",
    "import matplotlib.pyplot as plt\n",
    "%matplotlib inline\n",
    "\n",
    "def plot_moons(X, y):\n",
    "    df = pd.DataFrame(dict(x1=X[:,0], x2=X[:,1], label=y))\n",
    "    colors = {0:'red', 1:'blue'}\n",
    "    fig, ax = plt.subplots()\n",
    "    grouped = df.groupby('label')\n",
    "\n",
    "    for key, group in grouped:\n",
    "        group.plot(ax=ax, kind='scatter', x='x1', y='x2', label=key, color=colors[key])\n",
    "        \n",
    "    \n",
    "    plt.title(f\"{len(X)} moons\")\n",
    "    plt.show()\n",
    "\n",
    "plot_moons(X, y)"
   ]
  },
  {
   "cell_type": "markdown",
   "metadata": {},
   "source": [
    "❓  Play with the number of samples and the noise to discover the effects on the `moons dataset` ❓\n",
    "\n",
    "🎨 Plot the moons for different values."
   ]
  },
  {
   "cell_type": "code",
   "execution_count": 14,
   "metadata": {
    "tags": [
     "challengify"
    ]
   },
   "outputs": [],
   "source": [
    "# YOUR CODE HERE"
   ]
  },
  {
   "cell_type": "markdown",
   "metadata": {},
   "source": [
    "❓ Create 250 samples of the data with ❓\n",
    "* a noise equal to 0.20\n",
    "* a random state equal to 0 to get the same results every time you re-run the notebook\n",
    "* and split the initial dataset into a train and test set (size: 70/30%) \n",
    "\n",
    "*Remark* : Please call the variables `X_train`, `y_train`, `X_test` and `y_test`"
   ]
  },
  {
   "cell_type": "code",
   "execution_count": 15,
   "metadata": {
    "tags": [
     "challengify"
    ]
   },
   "outputs": [],
   "source": [
    "X, y = make_moons(n_samples=250, noise=0.20, random_state=0)"
   ]
  },
  {
   "cell_type": "code",
   "execution_count": 16,
   "metadata": {},
   "outputs": [],
   "source": [
    "from sklearn.model_selection import train_test_split\n",
    "\n",
    "X_train, X_test, y_train, y_test = train_test_split(X, y,test_size = 0.3,random_state = 6) "
   ]
  },
  {
   "cell_type": "markdown",
   "metadata": {},
   "source": [
    "## (2) Designing a basic Neural Network  for a binary classification task"
   ]
  },
  {
   "cell_type": "markdown",
   "metadata": {},
   "source": [
    "🧠 You will now define your first neural network.\n",
    "The architecture of your model should have: \n",
    "- a first layer with:\n",
    "    - 5 neurons\n",
    "    - a _relu_ activation function \n",
    "    - the correct input dimension\n",
    "- an output layer suited to your binary classification task.\n",
    "\n",
    "\n",
    "❓ Complete the next function with the previous architecture ❓"
   ]
  },
  {
   "cell_type": "code",
   "execution_count": 20,
   "metadata": {
    "tags": [
     "challengify"
    ]
   },
   "outputs": [],
   "source": [
    "from tensorflow.keras import Sequential\n",
    "from tensorflow.keras import layers"
   ]
  },
  {
   "cell_type": "code",
   "execution_count": 21,
   "metadata": {},
   "outputs": [],
   "source": [
    "def initialize_model():\n",
    "    model = Sequential()\n",
    "\n",
    "    #############################\n",
    "    #  1 - Model architecture   #\n",
    "    #############################    \n",
    "    model.add(layers.Dense(5, input_dim=2, activation='relu'))\n",
    "    model.add(layers.Dense(1, activation='sigmoid'))\n",
    "    \n",
    "    #############################\n",
    "    #  2 - Optimization Method  #\n",
    "    #############################\n",
    "    model.compile(loss='binary_crossentropy', # We've already mentioned this loss function in Logistic Regression\n",
    "                  optimizer='adam', # Optimizer in Deep Learning = solver in Machine Learning | Adam = our best friend\n",
    "                  metrics=['accuracy']) # Let's focus on the accuracy, our dataset is balanced\n",
    "    \n",
    "    return model\n",
    "\n",
    "model = initialize_model()"
   ]
  },
  {
   "cell_type": "markdown",
   "metadata": {},
   "source": [
    "---\n",
    "\n",
    "<details>\n",
    "    <summary><i>Intuitions about the optimization method</i></summary>\n",
    "\n",
    "We'll keep this message short as you have a full course 📆 **Deep Learning - Optimizers, Loss, Fitting** coming soon.\n",
    "    \n",
    "So, briefly speaking:\n",
    "    \n",
    "- the ***.compile()*** tells your algorithm how to optimize the weights of your network when fitting the network on real data\n",
    "    - the ***binary_crossentropy*** is the \"log-loss\" that you have already seen in Machine Learning in the context of a Logistic Regression for classification\n",
    "    - To date, the ***adam*** optimizer is the gold standard in Deep Learning - an optimizer in Deep Learning is like a solver in Machine Learning: it provides an iterative method to minimize the loss function of an algorithm with respect to its parameters\n",
    "    \n",
    "</details>\n",
    "\n",
    "---"
   ]
  },
  {
   "cell_type": "markdown",
   "metadata": {},
   "source": [
    "\n",
    "\n",
    "❓ How many parameters does the model have?  ❓\n",
    "\n",
    "<details>\n",
    "    <summary><i>Hint</i></summary>\n",
    "\n",
    "The `.summary()`method displays:\n",
    "   - the stack of layers of your Neural Network\n",
    "   - the output shape after each layer\n",
    "   - the number of parameters for each layer (and consequently the total number of parameters)\n",
    "    \n",
    "</details>\n"
   ]
  },
  {
   "cell_type": "code",
   "execution_count": 22,
   "metadata": {
    "tags": [
     "challengify"
    ]
   },
   "outputs": [
    {
     "name": "stdout",
     "output_type": "stream",
     "text": [
      "Model: \"sequential_4\"\n",
      "_________________________________________________________________\n",
      " Layer (type)                Output Shape              Param #   \n",
      "=================================================================\n",
      " dense (Dense)               (None, 5)                 15        \n",
      "                                                                 \n",
      " dense_1 (Dense)             (None, 1)                 6         \n",
      "                                                                 \n",
      "=================================================================\n",
      "Total params: 21\n",
      "Trainable params: 21\n",
      "Non-trainable params: 0\n",
      "_________________________________________________________________\n"
     ]
    }
   ],
   "source": [
    "model.summary()"
   ]
  },
  {
   "cell_type": "markdown",
   "metadata": {},
   "source": [
    "## (3) Training your Neural Network"
   ]
  },
  {
   "cell_type": "markdown",
   "metadata": {},
   "source": [
    "❓You are now ready to train your algorithm. \n",
    "\n",
    "Let's go! Initialize your model and fit it on the training set using `100 epochs`! \n",
    "\n",
    "Store the results of the training into a `history` variable. ❓"
   ]
  },
  {
   "cell_type": "code",
   "execution_count": 29,
   "metadata": {
    "tags": [
     "challengify"
    ]
   },
   "outputs": [],
   "source": [
    "model=initialize_model()\n",
    "\n",
    "history =model.fit(X_train,\n",
    "          y_train,\n",
    "          epochs=100,\n",
    "          batch_size=8,\n",
    "          verbose=0\n",
    ")"
   ]
  },
  {
   "cell_type": "markdown",
   "metadata": {},
   "source": [
    "👀 `history` contains information about the training.\n",
    "\n",
    "❓ Inspect all its attributes using `history.__dict__`. You will notice that you have access to epoch-by-epoch information stored in `history.history`"
   ]
  },
  {
   "cell_type": "code",
   "execution_count": 30,
   "metadata": {
    "tags": [
     "challengify"
    ]
   },
   "outputs": [
    {
     "data": {
      "text/plain": [
       "{'validation_data': None,\n",
       " 'model': <keras.engine.sequential.Sequential at 0x7f8b7065eaa0>,\n",
       " '_chief_worker_only': None,\n",
       " '_supports_tf_logs': False,\n",
       " 'history': {'loss': [0.6243203282356262,\n",
       "   0.6129748225212097,\n",
       "   0.6013386845588684,\n",
       "   0.5885300040245056,\n",
       "   0.5753156542778015,\n",
       "   0.562217652797699,\n",
       "   0.5481045246124268,\n",
       "   0.5342549085617065,\n",
       "   0.5199030637741089,\n",
       "   0.5065106153488159,\n",
       "   0.4932965040206909,\n",
       "   0.4808737635612488,\n",
       "   0.4685651361942291,\n",
       "   0.45688876509666443,\n",
       "   0.4462272524833679,\n",
       "   0.43546050786972046,\n",
       "   0.42599526047706604,\n",
       "   0.41671234369277954,\n",
       "   0.4085208475589752,\n",
       "   0.40091943740844727,\n",
       "   0.3936821520328522,\n",
       "   0.387197345495224,\n",
       "   0.3814985752105713,\n",
       "   0.3761736750602722,\n",
       "   0.3710379898548126,\n",
       "   0.36682751774787903,\n",
       "   0.36254367232322693,\n",
       "   0.35907816886901855,\n",
       "   0.3554888367652893,\n",
       "   0.3524153232574463,\n",
       "   0.34965917468070984,\n",
       "   0.3461459279060364,\n",
       "   0.3434867262840271,\n",
       "   0.34091636538505554,\n",
       "   0.3387892544269562,\n",
       "   0.3366095721721649,\n",
       "   0.33461886644363403,\n",
       "   0.3327201306819916,\n",
       "   0.33072423934936523,\n",
       "   0.3291999101638794,\n",
       "   0.32751429080963135,\n",
       "   0.3257077932357788,\n",
       "   0.32445642352104187,\n",
       "   0.3229532837867737,\n",
       "   0.3213724195957184,\n",
       "   0.31986549496650696,\n",
       "   0.31877341866493225,\n",
       "   0.3173237442970276,\n",
       "   0.31667283177375793,\n",
       "   0.31523025035858154,\n",
       "   0.31427979469299316,\n",
       "   0.31319037079811096,\n",
       "   0.31185004115104675,\n",
       "   0.3110441565513611,\n",
       "   0.3101065456867218,\n",
       "   0.30934813618659973,\n",
       "   0.3084425926208496,\n",
       "   0.30759310722351074,\n",
       "   0.30715930461883545,\n",
       "   0.3060380816459656,\n",
       "   0.30540916323661804,\n",
       "   0.30472317337989807,\n",
       "   0.30427035689353943,\n",
       "   0.3036428391933441,\n",
       "   0.30304574966430664,\n",
       "   0.30225592851638794,\n",
       "   0.30164453387260437,\n",
       "   0.30098840594291687,\n",
       "   0.30085355043411255,\n",
       "   0.29976698756217957,\n",
       "   0.2992916405200958,\n",
       "   0.298833429813385,\n",
       "   0.2986740469932556,\n",
       "   0.29768508672714233,\n",
       "   0.29722851514816284,\n",
       "   0.2969002425670624,\n",
       "   0.29619643092155457,\n",
       "   0.2958938479423523,\n",
       "   0.29536592960357666,\n",
       "   0.2951085865497589,\n",
       "   0.2942286431789398,\n",
       "   0.2939709424972534,\n",
       "   0.29349836707115173,\n",
       "   0.2929365634918213,\n",
       "   0.2925108075141907,\n",
       "   0.2920531630516052,\n",
       "   0.2917712330818176,\n",
       "   0.29122230410575867,\n",
       "   0.2905367910861969,\n",
       "   0.29020583629608154,\n",
       "   0.2895800769329071,\n",
       "   0.28957998752593994,\n",
       "   0.28894051909446716,\n",
       "   0.2883742153644562,\n",
       "   0.28801795840263367,\n",
       "   0.28761833906173706,\n",
       "   0.28719329833984375,\n",
       "   0.2872333228588104,\n",
       "   0.2869330942630768,\n",
       "   0.28665482997894287],\n",
       "  'accuracy': [0.8057143092155457,\n",
       "   0.8114285469055176,\n",
       "   0.8114285469055176,\n",
       "   0.8171428442001343,\n",
       "   0.8114285469055176,\n",
       "   0.822857141494751,\n",
       "   0.8285714387893677,\n",
       "   0.8285714387893677,\n",
       "   0.8285714387893677,\n",
       "   0.8285714387893677,\n",
       "   0.8342857360839844,\n",
       "   0.8342857360839844,\n",
       "   0.8342857360839844,\n",
       "   0.8342857360839844,\n",
       "   0.8342857360839844,\n",
       "   0.8342857360839844,\n",
       "   0.8342857360839844,\n",
       "   0.8342857360839844,\n",
       "   0.8342857360839844,\n",
       "   0.8342857360839844,\n",
       "   0.8342857360839844,\n",
       "   0.8342857360839844,\n",
       "   0.8342857360839844,\n",
       "   0.8342857360839844,\n",
       "   0.8342857360839844,\n",
       "   0.8342857360839844,\n",
       "   0.8342857360839844,\n",
       "   0.8342857360839844,\n",
       "   0.8399999737739563,\n",
       "   0.8399999737739563,\n",
       "   0.8399999737739563,\n",
       "   0.8399999737739563,\n",
       "   0.8399999737739563,\n",
       "   0.8399999737739563,\n",
       "   0.8399999737739563,\n",
       "   0.8399999737739563,\n",
       "   0.8399999737739563,\n",
       "   0.8399999737739563,\n",
       "   0.8399999737739563,\n",
       "   0.845714271068573,\n",
       "   0.845714271068573,\n",
       "   0.845714271068573,\n",
       "   0.845714271068573,\n",
       "   0.845714271068573,\n",
       "   0.845714271068573,\n",
       "   0.8514285683631897,\n",
       "   0.8514285683631897,\n",
       "   0.8514285683631897,\n",
       "   0.8514285683631897,\n",
       "   0.8514285683631897,\n",
       "   0.8514285683631897,\n",
       "   0.8514285683631897,\n",
       "   0.8514285683631897,\n",
       "   0.8571428656578064,\n",
       "   0.8571428656578064,\n",
       "   0.8571428656578064,\n",
       "   0.8514285683631897,\n",
       "   0.8628571629524231,\n",
       "   0.8571428656578064,\n",
       "   0.8571428656578064,\n",
       "   0.8628571629524231,\n",
       "   0.8571428656578064,\n",
       "   0.8571428656578064,\n",
       "   0.8571428656578064,\n",
       "   0.8628571629524231,\n",
       "   0.8628571629524231,\n",
       "   0.8571428656578064,\n",
       "   0.8571428656578064,\n",
       "   0.8571428656578064,\n",
       "   0.8628571629524231,\n",
       "   0.8628571629524231,\n",
       "   0.8628571629524231,\n",
       "   0.8628571629524231,\n",
       "   0.8628571629524231,\n",
       "   0.8628571629524231,\n",
       "   0.868571400642395,\n",
       "   0.868571400642395,\n",
       "   0.868571400642395,\n",
       "   0.868571400642395,\n",
       "   0.868571400642395,\n",
       "   0.868571400642395,\n",
       "   0.868571400642395,\n",
       "   0.868571400642395,\n",
       "   0.868571400642395,\n",
       "   0.868571400642395,\n",
       "   0.868571400642395,\n",
       "   0.868571400642395,\n",
       "   0.868571400642395,\n",
       "   0.868571400642395,\n",
       "   0.868571400642395,\n",
       "   0.868571400642395,\n",
       "   0.868571400642395,\n",
       "   0.868571400642395,\n",
       "   0.868571400642395,\n",
       "   0.868571400642395,\n",
       "   0.868571400642395,\n",
       "   0.868571400642395,\n",
       "   0.868571400642395,\n",
       "   0.868571400642395,\n",
       "   0.868571400642395]},\n",
       " 'params': {'verbose': 0, 'epochs': 100, 'steps': 22},\n",
       " 'epoch': [0,\n",
       "  1,\n",
       "  2,\n",
       "  3,\n",
       "  4,\n",
       "  5,\n",
       "  6,\n",
       "  7,\n",
       "  8,\n",
       "  9,\n",
       "  10,\n",
       "  11,\n",
       "  12,\n",
       "  13,\n",
       "  14,\n",
       "  15,\n",
       "  16,\n",
       "  17,\n",
       "  18,\n",
       "  19,\n",
       "  20,\n",
       "  21,\n",
       "  22,\n",
       "  23,\n",
       "  24,\n",
       "  25,\n",
       "  26,\n",
       "  27,\n",
       "  28,\n",
       "  29,\n",
       "  30,\n",
       "  31,\n",
       "  32,\n",
       "  33,\n",
       "  34,\n",
       "  35,\n",
       "  36,\n",
       "  37,\n",
       "  38,\n",
       "  39,\n",
       "  40,\n",
       "  41,\n",
       "  42,\n",
       "  43,\n",
       "  44,\n",
       "  45,\n",
       "  46,\n",
       "  47,\n",
       "  48,\n",
       "  49,\n",
       "  50,\n",
       "  51,\n",
       "  52,\n",
       "  53,\n",
       "  54,\n",
       "  55,\n",
       "  56,\n",
       "  57,\n",
       "  58,\n",
       "  59,\n",
       "  60,\n",
       "  61,\n",
       "  62,\n",
       "  63,\n",
       "  64,\n",
       "  65,\n",
       "  66,\n",
       "  67,\n",
       "  68,\n",
       "  69,\n",
       "  70,\n",
       "  71,\n",
       "  72,\n",
       "  73,\n",
       "  74,\n",
       "  75,\n",
       "  76,\n",
       "  77,\n",
       "  78,\n",
       "  79,\n",
       "  80,\n",
       "  81,\n",
       "  82,\n",
       "  83,\n",
       "  84,\n",
       "  85,\n",
       "  86,\n",
       "  87,\n",
       "  88,\n",
       "  89,\n",
       "  90,\n",
       "  91,\n",
       "  92,\n",
       "  93,\n",
       "  94,\n",
       "  95,\n",
       "  96,\n",
       "  97,\n",
       "  98,\n",
       "  99]}"
      ]
     },
     "execution_count": 30,
     "metadata": {},
     "output_type": "execute_result"
    }
   ],
   "source": [
    "history.__dict__"
   ]
  },
  {
   "cell_type": "markdown",
   "metadata": {},
   "source": [
    "❓ Plot the history of the train loss using the following function ❓"
   ]
  },
  {
   "cell_type": "code",
   "execution_count": 31,
   "metadata": {},
   "outputs": [],
   "source": [
    "def plot_history(history):\n",
    "    plt.plot(history.history['loss'])\n",
    "    plt.title('Train loss')\n",
    "    plt.ylabel('Loss')\n",
    "    plt.xlabel('Epoch')\n",
    "    plt.show()"
   ]
  },
  {
   "cell_type": "code",
   "execution_count": 32,
   "metadata": {
    "tags": [
     "challengify"
    ]
   },
   "outputs": [
    {
     "data": {
      "image/png": "[encoded data removed]",
      "text/plain": [
       "<Figure size 640x480 with 1 Axes>"
      ]
     },
     "metadata": {},
     "output_type": "display_data"
    }
   ],
   "source": [
    "plot_history(history)"
   ]
  },
  {
   "cell_type": "markdown",
   "metadata": {},
   "source": [
    "❓ What do you observe ❓"
   ]
  },
  {
   "cell_type": "markdown",
   "metadata": {
    "tags": [
     "challengify"
    ]
   },
   "source": [
    "> YOUR ANSWER HERE"
   ]
  },
  {
   "cell_type": "markdown",
   "metadata": {},
   "source": [
    "❗️ <u>Evaluation on unseen data</u> ❗️\n",
    "\n",
    "🧑🏻‍🏫 A Deep Learning Model is like any other Machine Learning model. Once you've trained it on the training set and are satisfied with how the Neural Network was able to learn, you need to ask: can it be generalized to unseen data such as the test set? \n",
    "\n"
   ]
  },
  {
   "cell_type": "markdown",
   "metadata": {},
   "source": [
    "## (4) Predict & Evaluate performance on test set"
   ]
  },
  {
   "cell_type": "markdown",
   "metadata": {},
   "source": [
    "❓ Predict the classes of the elements in the training set using _.predict()_ and store these predicted classes into a variable called `y_pred` ❓"
   ]
  },
  {
   "cell_type": "code",
   "execution_count": 33,
   "metadata": {
    "tags": [
     "challengify"
    ]
   },
   "outputs": [
    {
     "name": "stdout",
     "output_type": "stream",
     "text": [
      "3/3 [==============================] - 0s 2ms/step\n"
     ]
    }
   ],
   "source": [
    "y_pred = model.predict(X_test)"
   ]
  },
  {
   "cell_type": "markdown",
   "metadata": {},
   "source": [
    "❓ What are your _loss_ and your _accuracy_ on the test set ❓ \n",
    "\n",
    "💡 In other words, you are asked to evaluate your Deep Learning model!"
   ]
  },
  {
   "cell_type": "code",
   "execution_count": 38,
   "metadata": {
    "tags": [
     "challengify"
    ]
   },
   "outputs": [],
   "source": [
    "\n",
    "loss = model.evaluate(X_test, y_test, verbose=0)[0]\n",
    "accuracy = model.evaluate(X_test, y_test, verbose=0)[1]"
   ]
  },
  {
   "cell_type": "markdown",
   "metadata": {},
   "source": [
    "**🧪 Test your code**"
   ]
  },
  {
   "cell_type": "code",
   "execution_count": 39,
   "metadata": {},
   "outputs": [
    {
     "name": "stdout",
     "output_type": "stream",
     "text": [
      "\n",
      "\u001b[1m============================= test session starts ==============================\u001b[0m\n",
      "platform linux -- Python 3.10.6, pytest-7.1.3, pluggy-1.0.0 -- /home/ilaria/.pyenv/versions/3.10.6/envs/lewagon/bin/python3.10\n",
      "cachedir: .pytest_cache\n",
      "rootdir: /home/ilaria/code/Ila-gni/06-Deep-Learning/01-Fundamentals-of-Deep-Learning/data-your-first-neural-network/tests\n",
      "plugins: asyncio-0.19.0, anyio-3.6.2\n",
      "asyncio: mode=strict\n",
      "\u001b[1mcollecting ... \u001b[0mcollected 1 item\n",
      "\n",
      "test_first_model.py::TestFirstModel::test_accuracy \u001b[32mPASSED\u001b[0m\u001b[32m                [100%]\u001b[0m\n",
      "\n",
      "\u001b[32m============================== \u001b[32m\u001b[1m1 passed\u001b[0m\u001b[32m in 0.03s\u001b[0m\u001b[32m ===============================\u001b[0m\n",
      "\n",
      "\n",
      "💯 You can commit your code:\n",
      "\n",
      "\u001b[1;32mgit\u001b[39m add tests/first_model.pickle\n",
      "\n",
      "\u001b[32mgit\u001b[39m commit -m \u001b[33m'Completed first_model step'\u001b[39m\n",
      "\n",
      "\u001b[32mgit\u001b[39m push origin master\n",
      "\n"
     ]
    }
   ],
   "source": [
    "from nbresult import ChallengeResult\n",
    "result = ChallengeResult('first_model', accuracy=accuracy)\n",
    "result.write()\n",
    "print(result.check())"
   ]
  },
  {
   "cell_type": "markdown",
   "metadata": {},
   "source": [
    "❓ Check the accuracy of your predictions visually by using our `plot_decision_regions` available in `utils/plots.py` ❓"
   ]
  },
  {
   "cell_type": "code",
   "execution_count": 40,
   "metadata": {
    "tags": [
     "challengify"
    ]
   },
   "outputs": [
    {
     "name": "stdout",
     "output_type": "stream",
     "text": [
      "1940/1940 [==============================] - 3s 1ms/step\n"
     ]
    },
    {
     "data": {
      "image/png": "[encoded data removed]",
      "text/plain": [
       "<Figure size 640x480 with 1 Axes>"
      ]
     },
     "metadata": {},
     "output_type": "display_data"
    }
   ],
   "source": [
    "from utils.plots import plot_decision_regions\n",
    "plot_decision_regions(X,y, model)"
   ]
  },
  {
   "cell_type": "markdown",
   "metadata": {},
   "source": [
    "😥 It looks like we are **underfitting** a bit, right? \n",
    "\n",
    "😁 We can try :\n",
    "- to train the model a bit longer...\n",
    "- ...or maybe to create a Deeper Neural network in the next section!"
   ]
  },
  {
   "cell_type": "markdown",
   "metadata": {},
   "source": [
    "## (5) Training your Neural Network with more epochs"
   ]
  },
  {
   "cell_type": "markdown",
   "metadata": {},
   "source": [
    "❓ Re-train the model for 500 iterations ❓\n",
    "- Don't forget to call the `initialize_model` function, otherwise, your initial parameters will be those you have already learned on the previous _.fit()_ ...!)\n",
    "- Plot the history to see how the loss changed over the different epochs/iterations."
   ]
  },
  {
   "cell_type": "code",
   "execution_count": 47,
   "metadata": {
    "tags": [
     "challengify"
    ]
   },
   "outputs": [
    {
     "data": {
      "image/png": "[encoded data removed]",
      "text/plain": [
       "<Figure size 640x480 with 1 Axes>"
      ]
     },
     "metadata": {},
     "output_type": "display_data"
    }
   ],
   "source": [
    "model = initialize_model()\n",
    "\n",
    "history = model.fit(X_train, y_train, \n",
    "                    epochs=500, \n",
    "                    batch_size=8, \n",
    "                    verbose=0)\n",
    "\n",
    "plot_history(history)"
   ]
  },
  {
   "cell_type": "markdown",
   "metadata": {},
   "source": [
    "❓ Did the test accuracy improve? ❓"
   ]
  },
  {
   "cell_type": "code",
   "execution_count": 48,
   "metadata": {
    "tags": [
     "challengify"
    ]
   },
   "outputs": [
    {
     "name": "stdout",
     "output_type": "stream",
     "text": [
      "3/3 [==============================] - 0s 3ms/step\n"
     ]
    },
    {
     "data": {
      "text/plain": [
       "0.9466666579246521"
      ]
     },
     "execution_count": 48,
     "metadata": {},
     "output_type": "execute_result"
    }
   ],
   "source": [
    "y_pred = model.predict(X_test)\n",
    "\n",
    "model.evaluate(X_test, y_test, verbose=0)[1]\n"
   ]
  },
  {
   "cell_type": "markdown",
   "metadata": {},
   "source": [
    "<details>\n",
    "    <summary><i>Not really... explanations here</i></summary>\n",
    "\n",
    "* The accuracy did not increase by training the model with more epochs...\n",
    "* So when should have we stopped the training of this Deep Learning Model?\n",
    "    * Answer in the next chapter <b><i>Deep Learning - Optimizers, Loss and Fitting</i></b>\n",
    "    \n",
    "</details>"
   ]
  },
  {
   "cell_type": "markdown",
   "metadata": {},
   "source": [
    "## (6) A Deeper Deep Learning Model"
   ]
  },
  {
   "cell_type": "markdown",
   "metadata": {},
   "source": [
    "❓ Let's try a **deeper** architecture that includes the following layers:\n",
    "\n",
    "- a first layer with 20 neurons (activation: `\"relu\"`)\n",
    "- a second layer with 10 neurons (activation: `\"relu\"`)\n",
    "- a third layer with 5 neurons (activation: `\"relu\"`)\n",
    "- an output layer suitable for this problem ❓\n"
   ]
  },
  {
   "cell_type": "code",
   "execution_count": 50,
   "metadata": {},
   "outputs": [],
   "source": [
    "def initialize_model_2():\n",
    "    \n",
    "    model = Sequential()\n",
    "    \n",
    "    model.add(layers.Dense(20, input_dim=2, activation='relu'))\n",
    "    model.add(layers.Dense(10, activation='relu'))\n",
    "    model.add(layers.Dense(5, activation='relu'))\n",
    "    model.add(layers.Dense(1, activation='sigmoid'))\n",
    "    \n",
    "    \n",
    "    #############################\n",
    "    #  2 - Optimization Method  #\n",
    "    #############################\n",
    "    \n",
    "    model.compile(loss='binary_crossentropy', # We've already mentioned this loss function in Logistic Regression\n",
    "                  optimizer='adam', # Optimizer in Deep Learning = solver in Machine Learning | Adam = our best friend\n",
    "                  metrics=['accuracy']) # Let's focus on the accuracy, our dataset is balanced\n",
    "    \n",
    "    return model\n",
    "\n",
    "model = initialize_model_2()"
   ]
  },
  {
   "cell_type": "markdown",
   "metadata": {},
   "source": [
    "❓ What is the number of parameters of your new model ❓"
   ]
  },
  {
   "cell_type": "code",
   "execution_count": 51,
   "metadata": {
    "tags": [
     "challengify"
    ]
   },
   "outputs": [
    {
     "name": "stdout",
     "output_type": "stream",
     "text": [
      "Model: \"sequential_15\"\n",
      "_________________________________________________________________\n",
      " Layer (type)                Output Shape              Param #   \n",
      "=================================================================\n",
      " dense_22 (Dense)            (None, 20)                60        \n",
      "                                                                 \n",
      " dense_23 (Dense)            (None, 10)                210       \n",
      "                                                                 \n",
      " dense_24 (Dense)            (None, 5)                 55        \n",
      "                                                                 \n",
      " dense_25 (Dense)            (None, 1)                 6         \n",
      "                                                                 \n",
      "=================================================================\n",
      "Total params: 331\n",
      "Trainable params: 331\n",
      "Non-trainable params: 0\n",
      "_________________________________________________________________\n"
     ]
    }
   ],
   "source": [
    "model.summary()"
   ]
  },
  {
   "cell_type": "markdown",
   "metadata": {},
   "source": [
    "❓ Run your model on the previous dataset for 500 epochs and plot the loss afterwards ❓"
   ]
  },
  {
   "cell_type": "code",
   "execution_count": 52,
   "metadata": {
    "tags": [
     "challengify"
    ]
   },
   "outputs": [
    {
     "data": {
      "image/png": "[encoded data removed]",
      "text/plain": [
       "<Figure size 640x480 with 1 Axes>"
      ]
     },
     "metadata": {},
     "output_type": "display_data"
    }
   ],
   "source": [
    "model = initialize_model_2()\n",
    "\n",
    "history = model.fit(X_train, y_train, \n",
    "                    epochs=500, \n",
    "                    batch_size=8, \n",
    "                    verbose=0)\n",
    "\n",
    "plot_history(history)"
   ]
  },
  {
   "cell_type": "markdown",
   "metadata": {},
   "source": [
    "❓ What is your accuracy on the test test ? Store it as `accuracy_deep` variable (`float`) ❓"
   ]
  },
  {
   "cell_type": "code",
   "execution_count": 55,
   "metadata": {
    "tags": [
     "challengify"
    ]
   },
   "outputs": [
    {
     "data": {
      "text/plain": [
       "0.9733333587646484"
      ]
     },
     "execution_count": 55,
     "metadata": {},
     "output_type": "execute_result"
    }
   ],
   "source": [
    "accuracy_deep = model.evaluate(X_test, y_test, verbose=0)[1]\n",
    "accuracy_deep"
   ]
  },
  {
   "cell_type": "markdown",
   "metadata": {},
   "source": [
    "🧪 **Test your code**"
   ]
  },
  {
   "cell_type": "code",
   "execution_count": 56,
   "metadata": {},
   "outputs": [
    {
     "name": "stdout",
     "output_type": "stream",
     "text": [
      "\n",
      "\u001b[1m============================= test session starts ==============================\u001b[0m\n",
      "platform linux -- Python 3.10.6, pytest-7.1.3, pluggy-1.0.0 -- /home/ilaria/.pyenv/versions/3.10.6/envs/lewagon/bin/python3.10\n",
      "cachedir: .pytest_cache\n",
      "rootdir: /home/ilaria/code/Ila-gni/06-Deep-Learning/01-Fundamentals-of-Deep-Learning/data-your-first-neural-network/tests\n",
      "plugins: asyncio-0.19.0, anyio-3.6.2\n",
      "asyncio: mode=strict\n",
      "\u001b[1mcollecting ... \u001b[0mcollected 1 item\n",
      "\n",
      "test_deeper_model.py::TestDeeperModel::test_accuracy \u001b[32mPASSED\u001b[0m\u001b[32m              [100%]\u001b[0m\n",
      "\n",
      "\u001b[32m============================== \u001b[32m\u001b[1m1 passed\u001b[0m\u001b[32m in 0.02s\u001b[0m\u001b[32m ===============================\u001b[0m\n",
      "\n",
      "\n",
      "💯 You can commit your code:\n",
      "\n",
      "\u001b[1;32mgit\u001b[39m add tests/deeper_model.pickle\n",
      "\n",
      "\u001b[32mgit\u001b[39m commit -m \u001b[33m'Completed deeper_model step'\u001b[39m\n",
      "\n",
      "\u001b[32mgit\u001b[39m push origin master\n",
      "\n"
     ]
    }
   ],
   "source": [
    "from nbresult import ChallengeResult\n",
    "result = ChallengeResult('deeper_model',\n",
    "                         accuracy=accuracy_deep)\n",
    "result.write()\n",
    "print(result.check())"
   ]
  },
  {
   "cell_type": "markdown",
   "metadata": {},
   "source": [
    "❓ Do you think we are overfitting on the noise ❓ Once again, use the `plot_decision_regions` function to help your intuition."
   ]
  },
  {
   "cell_type": "code",
   "execution_count": 53,
   "metadata": {
    "tags": [
     "challengify"
    ]
   },
   "outputs": [
    {
     "name": "stdout",
     "output_type": "stream",
     "text": [
      "1773/1773 [==============================] - 3s 2ms/step\n"
     ]
    },
    {
     "data": {
      "image/png": "[encoded data removed]",
      "text/plain": [
       "<Figure size 640x480 with 1 Axes>"
      ]
     },
     "metadata": {},
     "output_type": "display_data"
    }
   ],
   "source": [
    "plot_decision_regions(X_train,y_train,model)"
   ]
  },
  {
   "cell_type": "markdown",
   "metadata": {},
   "source": [
    "---\n",
    "\n",
    "🏁 Congratulations!\n",
    "\n",
    "💾 Don't forget to `git add/commit/push` your notebook...\n",
    "\n",
    "🚀 ... and move on to the next challenge!"
   ]
  }
 ],
 "metadata": {
  "kernelspec": {
   "display_name": "Python 3 (ipykernel)",
   "language": "python",
   "name": "python3"
  },
  "language_info": {
   "codemirror_mode": {
    "name": "ipython",
    "version": 3
   },
   "file_extension": ".py",
   "mimetype": "text/x-python",
   "name": "python",
   "nbconvert_exporter": "python",
   "pygments_lexer": "ipython3",
   "version": "3.10.6"
  },
  "toc": {
   "base_numbering": 1,
   "nav_menu": {},
   "number_sections": true,
   "sideBar": true,
   "skip_h1_title": false,
   "title_cell": "Table of Contents",
   "title_sidebar": "Contents",
   "toc_cell": false,
   "toc_position": {},
   "toc_section_display": true,
   "toc_window_display": false
  }
 },
 "nbformat": 4,
 "nbformat_minor": 4
}
